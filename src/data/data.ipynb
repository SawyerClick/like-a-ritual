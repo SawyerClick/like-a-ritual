{
 "cells": [
  {
   "cell_type": "code",
   "execution_count": 1,
   "metadata": {},
   "outputs": [],
   "source": [
    "## AN AUDIOVISUAL ODE TO TITLE FIGHT\n",
    "## USING SPOTIFY DATA TO FIGURE OUT WHY TITLE FIGHT IS A SCENE FAVORITE YEARS AFTER THEIR LAST ALBUM RELEASE\n",
    "## BY SAWYER CLICK\n",
    "\n",
    "#imports\n",
    "import requests\n",
    "import pandas as pd\n",
    "import re\n",
    "from dotenv import load_dotenv\n",
    "load_dotenv()\n",
    "import base64\n",
    "import os\n",
    "import requests\n",
    "import json\n",
    "pd.set_option('display.max_colwidth', 999)\n",
    "# import nltk\n",
    "# nltk.download()\n",
    "\n",
    "# get tokens\n",
    "spotify_client_id = os.getenv(\"tfID\")\n",
    "spotify_client_secret = os.getenv(\"tfSecret\")\n",
    "token = os.getenv(\"SPOTIFY_ACCESS_TOKEN\")\n",
    "genius_api_key = os.getenv(\"GENIUS_ACCESS\")\n",
    "\n",
    "# set up how we use the tokens\n",
    "access_token = os.getenv(\"SPOTIFY_ACCESS_TOKEN\")\n",
    "raw_token = !spotify-token\n",
    "token = f\"Bearer {raw_token[1].replace('Your token is:  ','')}\"\n",
    "base_url = \"https://api.spotify.com/v1\"\n",
    "headers = {'Authorization': token}"
   ]
  },
  {
   "cell_type": "code",
   "execution_count": 2,
   "metadata": {},
   "outputs": [
    {
     "name": "stdout",
     "output_type": "stream",
     "text": [
      "ARTIST DATA {'external_urls': {'spotify': 'https://open.spotify.com/artist/2CnhqfjUG0qzsru0SMuhrk'}, 'followers': {'href': None, 'total': 148765}, 'genres': ['alternative emo', 'emo', 'indie punk', 'melodic hardcore', 'pop punk'], 'href': 'https://api.spotify.com/v1/artists/2CnhqfjUG0qzsru0SMuhrk', 'id': '2CnhqfjUG0qzsru0SMuhrk', 'images': [{'height': 640, 'url': 'https://i.scdn.co/image/f655f973e8e6ac3b8e556d1dbc11aac05d19a2b4', 'width': 640}, {'height': 320, 'url': 'https://i.scdn.co/image/e00b58d31d4ef03ae029ae8f18005f01ea774ea6', 'width': 320}, {'height': 160, 'url': 'https://i.scdn.co/image/5a23ff7df5d262390ae72dd9a3c9f58eaf943144', 'width': 160}], 'name': 'Title Fight', 'popularity': 53, 'type': 'artist', 'uri': 'spotify:artist:2CnhqfjUG0qzsru0SMuhrk'}\n"
     ]
    }
   ],
   "source": [
    "# grab artist data for title fight\n",
    "tfURI = '2CnhqfjUG0qzsru0SMuhrk'\n",
    "search_url = f\"{base_url}/artists/{tfURI}\"\n",
    "params = {'limit':1}\n",
    "artist = requests.get(search_url, params=params, headers=headers).json()\n",
    "\n",
    "with open('artist.json', 'w') as outfile:\n",
    "    json.dump(artist, outfile)\n",
    "    \n",
    "print('ARTIST DATA', artist)"
   ]
  },
  {
   "cell_type": "code",
   "execution_count": 3,
   "metadata": {},
   "outputs": [
    {
     "name": "stdout",
     "output_type": "stream",
     "text": [
      "Collecting uris for these albums & singles: ['Hyperview', 'Floral Green', 'Shed', 'The Last Thing You Forget', 'Spring Songs', 'Face Ghost', \"Flood of '72\"]\n"
     ]
    }
   ],
   "source": [
    "# getting album data\n",
    "search_url = f\"{base_url}/artists/{tfURI}/albums\"\n",
    "params = {'limit':50, 'include_groups': 'album,single'}\n",
    "raw_albums = requests.get(search_url, params=params, headers=headers).json()\n",
    "\n",
    "# limiting to US market to remove duplicate albums with one-off markets\n",
    "albumsBase = []\n",
    "for album in raw_albums['items']:\n",
    "    if 'US' in album['available_markets']:\n",
    "        del album['available_markets']\n",
    "        albumsBase.append(album)\n",
    "\n",
    "with open('albumsBase.json', 'w') as outfile:\n",
    "    json.dump(albumsBase, outfile)\n",
    "    \n",
    "print('Collecting uris for these albums & singles:', [album['name'] for album in albumsBase])  "
   ]
  },
  {
   "cell_type": "code",
   "execution_count": 4,
   "metadata": {},
   "outputs": [],
   "source": [
    "baseSearchAlbum = f'{base_url}/albums/'\n",
    "albums = []\n",
    "tracksBase = []\n",
    "for album in albumsBase:\n",
    "    \n",
    "    #store data from this album in our albums array\n",
    "    thisAlbum = requests.get(baseSearchAlbum+album['uri'].split(':')[2], params={'limit':1}, headers=headers).json()\n",
    "    del thisAlbum['available_markets']\n",
    "    albums.append(thisAlbum)\n",
    "    \n",
    "    # create a function to grab all the tracks and get their base data\n",
    "    # eventually add endpoints for collecting anaylsis\n",
    "    albumTracks = requests.get(thisAlbum['tracks']['href'], headers=headers).json()\n",
    "    for track in albumTracks['items']:\n",
    "        # attach the album name\n",
    "        track['album'] = album['name']\n",
    "        # delete the available markets array bc it takes up so much space\n",
    "        del track['available_markets']\n",
    "        tracksBase.append(track)\n",
    "        \n",
    "trackURIs = [track['uri'].split(':')[2] for track in tracksBase]\n",
    "        \n",
    "with open('albums.json', 'w') as outfile:\n",
    "    json.dump(albums, outfile)"
   ]
  },
  {
   "cell_type": "code",
   "execution_count": 5,
   "metadata": {
    "scrolled": true
   },
   "outputs": [
    {
     "name": "stdout",
     "output_type": "stream",
     "text": [
      "Grabbed data for 51 tracks\n"
     ]
    }
   ],
   "source": [
    "# grab the features of each track in their albums\n",
    "tracksFt = []\n",
    "[tracksFt.append(requests.get(base_url+'/audio-features/'+uri, headers=headers).json()) for uri in trackURIs]\n",
    "print(f'Grabbed data for {len(trackURIs)} tracks')"
   ]
  },
  {
   "cell_type": "code",
   "execution_count": 6,
   "metadata": {},
   "outputs": [],
   "source": [
    "for track in tracksBase:\n",
    "    for ftTrack in tracksFt:\n",
    "        if track['uri'] == ftTrack['uri']:\n",
    "            track['features'] = ftTrack"
   ]
  },
  {
   "cell_type": "code",
   "execution_count": 7,
   "metadata": {},
   "outputs": [],
   "source": [
    "with open('tracks.json', 'w') as outfile:\n",
    "    json.dump(tracksBase, outfile)"
   ]
  }
 ],
 "metadata": {
  "kernelspec": {
   "display_name": "Python 3",
   "language": "python",
   "name": "python3"
  },
  "language_info": {
   "codemirror_mode": {
    "name": "ipython",
    "version": 3
   },
   "file_extension": ".py",
   "mimetype": "text/x-python",
   "name": "python",
   "nbconvert_exporter": "python",
   "pygments_lexer": "ipython3",
   "version": "3.9.0"
  }
 },
 "nbformat": 4,
 "nbformat_minor": 4
}
