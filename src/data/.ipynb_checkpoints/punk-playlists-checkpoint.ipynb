{
 "cells": [
  {
   "cell_type": "markdown",
   "metadata": {},
   "source": [
    "# Is Punk Dead?\n",
    "Looking at Spotify's punk playlists portray punk music in the streaming era.\n",
    "\n",
    "Find the project at https://sawyerclick.github.io/punk"
   ]
  },
  {
   "cell_type": "markdown",
   "metadata": {},
   "source": [
    "### Importing Our Tools"
   ]
  },
  {
   "cell_type": "code",
   "execution_count": 1,
   "metadata": {},
   "outputs": [],
   "source": [
    "import requests, zipfile, io\n",
    "import pandas as pd\n",
    "from bs4 import BeautifulSoup\n",
    "import re\n",
    "import datetime as dt  \n",
    "import numpy as np\n",
    "from dotenv import load_dotenv\n",
    "load_dotenv()\n",
    "import base64\n",
    "import os\n",
    "import requests\n",
    "import json\n",
    "pd.set_option('display.max_colwidth', -1)\n",
    "import matplotlib\n",
    "import matplotlib.pyplot as plt\n",
    "matplotlib.rcParams['pdf.fonttype'] = 42\n",
    "import seaborn as sns\n",
    "import nltk\n",
    "# nltk.download()\n",
    "\n",
    "%matplotlib inline\n",
    "plt.style.use('fivethirtyeight')\n",
    "\n",
    "genius_api_key = os.getenv(\"GENIUS_ACCESS\")\n",
    "\n",
    "import spotipy\n",
    "from spotipy.oauth2 import SpotifyClientCredentials\n",
    "import sys\n",
    "\n",
    "# spotify_client_id = os.getenv(\"SPOTIFY_CLIENT_ID\")\n",
    "# spotify_client_secret = os.getenv(\"SPOTIFY_CLIENT_SECRET\")\n",
    "# token = os.getenv(\"SPOTIFY_ACCESS_TOKEN\")"
   ]
  },
  {
   "cell_type": "code",
   "execution_count": 2,
   "metadata": {},
   "outputs": [],
   "source": [
    "filepath = \"NRC-Emotion-Lexicon/NRC-Emotion-Lexicon-v0.92/NRC-Emotion-Lexicon-Wordlevel-v0.92.txt\"\n",
    "emolex_df = pd.read_csv(filepath,  names=[\"word\", \"emotion\", \"association\"], skiprows=45, sep='\\t')\n",
    "emo_df = emolex_df[((emolex_df.emotion == 'sadness') | (emolex_df.emotion == 'fear')) & (emolex_df.association == 1)]"
   ]
  },
  {
   "cell_type": "markdown",
   "metadata": {},
   "source": [
    "# This one uses <code>Spotify's API</code>\n",
    "- retains special info\n",
    "- refresh my access token every damn hour (https://developer.spotify.com/console/get-track/?id=3n3Ppam7vgaVa1iaRUc9Lp)"
   ]
  },
  {
   "cell_type": "markdown",
   "metadata": {},
   "source": [
    "### Grabbing the playlists"
   ]
  },
  {
   "cell_type": "code",
   "execution_count": null,
   "metadata": {},
   "outputs": [],
   "source": [
    "access_token = os.getenv(\"SPOTIFY_ACCESS_TOKEN\")\n",
    "token = f\"Bearer {access_token}\"\n",
    "base_url = \"https://api.spotify.com/v1\"\n",
    "headers = {'Authorization': token}\n",
    "search_url = \"https://api.spotify.com/v1/browse/categories/punk/playlists\" # Right now just looking for punk playlists\n",
    "\n",
    "params = {'limit':50}\n",
    "response = requests.get(search_url, params=params, headers=headers).json()"
   ]
  },
  {
   "cell_type": "markdown",
   "metadata": {},
   "source": [
    "### Turning it into a dataframe"
   ]
  },
  {
   "cell_type": "code",
   "execution_count": null,
   "metadata": {},
   "outputs": [],
   "source": [
    "rows = []\n",
    "for playlist in response['playlists']['items']:\n",
    "    if playlist['owner']['display_name'] == \"Spotify\":\n",
    "        print(playlist['name'])\n",
    "        \n",
    "        playlist_response = requests.get(playlist['tracks']['href'],headers=headers).json()\n",
    "        for song in playlist_response['items']:\n",
    "            row = {}\n",
    "            \n",
    "            row['playlist_name'] = playlist['name']\n",
    "            row['playlist_link'] = playlist['external_urls']['spotify']\n",
    "            row['playlist_api'] = playlist['tracks']['href']\n",
    "            row['song_name'] = song['track']['name']\n",
    "            row['song_album'] = song['track']['album']['name']\n",
    "            row['artist_name'] = song['track']['album']['artists'][0]['name']\n",
    "            row['song_release_date'] = song['track']['album']['release_date'].split(\"-\")[0]\n",
    "            row['song_length'] = \"{:.2f}\".format((song['track']['duration_ms'] / 60000))\n",
    "            row['song_preview'] = song['track']['preview_url']\n",
    "            row['song_id'] = song['track']['id']\n",
    "            row['song_explicit'] = song['track']['explicit']\n",
    "            row['song_popularity'] = song['track']['popularity']\n",
    "            \n",
    "            search_url = base_url + \"/audio-features/\" + song['track']['id']\n",
    "            response_track_features = requests.get(search_url, headers=headers).json()\n",
    "            for key in response_track_features.keys():\n",
    "                row[key] = response_track_features[key]\n",
    "            \n",
    "            artist_response = requests.get(song['track']['album']['artists'][0]['href'],headers=headers).json()\n",
    "            row['artist_genres'] = artist_response['genres']\n",
    "            row['artist_followers'] = artist_response['followers']['total']\n",
    "            row['artist_popularity'] = artist_response['popularity']\n",
    "                \n",
    "            rows.append(row)"
   ]
  },
  {
   "cell_type": "markdown",
   "metadata": {},
   "source": [
    "### Kicking out the dirty data"
   ]
  },
  {
   "cell_type": "code",
   "execution_count": null,
   "metadata": {},
   "outputs": [],
   "source": [
    "df = pd.DataFrame(rows)\n",
    "df.song_release_date = df.song_release_date.astype(int)\n",
    "df[(df.valence != 'Nan') & (df.energy != 'Nan') & (df.loudness != 'Nan') & (df.song_popularity != 'Nan')].to_csv('spotify_punk_playlists.csv', index=False)"
   ]
  },
  {
   "cell_type": "markdown",
   "metadata": {},
   "source": [
    "### Reading in the csv here\n",
    "There are two of them:\n",
    "<code>spotify_punk_playlists.csv</code> is all decades\n",
    "<code>spotify_punk_playlists_post90s</code> is 90s plus"
   ]
  },
  {
   "cell_type": "code",
   "execution_count": 35,
   "metadata": {},
   "outputs": [],
   "source": [
    "df = pd.read_csv('spotify_punk_playlists.csv')\n",
    "df[df.song_release_date > 1990].to_csv('spotify_punk_playlists_post90s.csv') ## post-90s"
   ]
  },
  {
   "cell_type": "markdown",
   "metadata": {},
   "source": [
    "### Grouping things by decades and setting up a column so that I can order things"
   ]
  },
  {
   "cell_type": "code",
   "execution_count": 36,
   "metadata": {
    "scrolled": true
   },
   "outputs": [],
   "source": [
    "def get_decade(x):\n",
    "    if x.song_release_date == 2019:\n",
    "        return \"'19\"\n",
    "    elif x.song_release_date >= 2010:\n",
    "        return \"'10s\"\n",
    "    elif x.song_release_date >= 2000:\n",
    "        return \"'00s\"\n",
    "    elif x.song_release_date >= 1990:\n",
    "        return \"'90s\"\n",
    "    elif x.song_release_date >= 1980:\n",
    "        return \"'80s\"\n",
    "    elif x.song_release_date >= 1970:\n",
    "        return \"'70s\"\n",
    "    elif x.song_release_date >= 1960:\n",
    "        return \"'60s\"\n",
    "    \n",
    "df['decade'] = df.apply(get_decade, axis=1)\n",
    "\n",
    "def get_order(x):\n",
    "    if x.song_release_date == 2019:\n",
    "        return 1\n",
    "    elif x.song_release_date >= 2010:\n",
    "        return 2\n",
    "    elif x.song_release_date >= 2000:\n",
    "        return 3\n",
    "    elif x.song_release_date >= 1990:\n",
    "        return 4\n",
    "    elif x.song_release_date >= 1980:\n",
    "        return 5\n",
    "    elif x.song_release_date >= 1970:\n",
    "        return 6\n",
    "    elif x.song_release_date >= 1960:\n",
    "        return 7\n",
    "    \n",
    "df['order'] = df.apply(get_order, axis=1)"
   ]
  },
  {
   "cell_type": "code",
   "execution_count": 37,
   "metadata": {},
   "outputs": [],
   "source": [
    "decade_energy_df = pd.DataFrame(df.groupby('order').energy.mean().reset_index())\n",
    "\n",
    "def get_decade(x):\n",
    "    if x == 1:\n",
    "        return \"'19\"\n",
    "    elif x == 2:\n",
    "        return \"'10s\"\n",
    "    elif x == 3:\n",
    "        return \"'00s\"\n",
    "    elif x == 4:\n",
    "        return \"'90s\"\n",
    "    elif x == 5:\n",
    "        return \"'80s\"\n",
    "    elif x == 6:\n",
    "        return \"'70s\"\n",
    "    elif x == 7:\n",
    "        return \"'60s\"\n",
    "decade_energy_df['decade'] = decade_energy_df.order.apply(lambda x: get_decade(x))\n",
    "decade_energy_df.to_csv('decades_energy.csv', columns=['decade', 'energy'], index=False)"
   ]
  },
  {
   "cell_type": "code",
   "execution_count": 38,
   "metadata": {
    "scrolled": true
   },
   "outputs": [
    {
     "data": {
      "text/html": [
       "<div>\n",
       "<style scoped>\n",
       "    .dataframe tbody tr th:only-of-type {\n",
       "        vertical-align: middle;\n",
       "    }\n",
       "\n",
       "    .dataframe tbody tr th {\n",
       "        vertical-align: top;\n",
       "    }\n",
       "\n",
       "    .dataframe thead th {\n",
       "        text-align: right;\n",
       "    }\n",
       "</style>\n",
       "<table border=\"1\" class=\"dataframe\">\n",
       "  <thead>\n",
       "    <tr style=\"text-align: right;\">\n",
       "      <th></th>\n",
       "      <th>decade</th>\n",
       "      <th>count</th>\n",
       "      <th>artist_followers</th>\n",
       "      <th>order</th>\n",
       "    </tr>\n",
       "  </thead>\n",
       "  <tbody>\n",
       "    <tr>\n",
       "      <th>0</th>\n",
       "      <td>'19</td>\n",
       "      <td>682</td>\n",
       "      <td>6819.5</td>\n",
       "      <td>1</td>\n",
       "    </tr>\n",
       "    <tr>\n",
       "      <th>1</th>\n",
       "      <td>'10s</td>\n",
       "      <td>469</td>\n",
       "      <td>27225.0</td>\n",
       "      <td>2</td>\n",
       "    </tr>\n",
       "    <tr>\n",
       "      <th>2</th>\n",
       "      <td>'00s</td>\n",
       "      <td>262</td>\n",
       "      <td>127324.0</td>\n",
       "      <td>3</td>\n",
       "    </tr>\n",
       "    <tr>\n",
       "      <th>3</th>\n",
       "      <td>'90s</td>\n",
       "      <td>122</td>\n",
       "      <td>60314.5</td>\n",
       "      <td>4</td>\n",
       "    </tr>\n",
       "    <tr>\n",
       "      <th>4</th>\n",
       "      <td>'80s</td>\n",
       "      <td>50</td>\n",
       "      <td>105852.5</td>\n",
       "      <td>5</td>\n",
       "    </tr>\n",
       "    <tr>\n",
       "      <th>5</th>\n",
       "      <td>'70s</td>\n",
       "      <td>39</td>\n",
       "      <td>130573.0</td>\n",
       "      <td>6</td>\n",
       "    </tr>\n",
       "    <tr>\n",
       "      <th>6</th>\n",
       "      <td>'60s</td>\n",
       "      <td>21</td>\n",
       "      <td>49029.0</td>\n",
       "      <td>7</td>\n",
       "    </tr>\n",
       "  </tbody>\n",
       "</table>\n",
       "</div>"
      ],
      "text/plain": [
       "  decade  count  artist_followers  order\n",
       "0  '19    682    6819.5            1    \n",
       "1  '10s   469    27225.0           2    \n",
       "2  '00s   262    127324.0          3    \n",
       "3  '90s   122    60314.5           4    \n",
       "4  '80s   50     105852.5          5    \n",
       "5  '70s   39     130573.0          6    \n",
       "6  '60s   21     49029.0           7    "
      ]
     },
     "execution_count": 38,
     "metadata": {},
     "output_type": "execute_result"
    }
   ],
   "source": [
    "df_decade_counts = df.decade.value_counts().reset_index().rename(columns={'decade':'count','index':'decade'})\n",
    "df_decade_counts['artist_followers'] = pd.DataFrame(df.groupby('order').artist_followers.median().reset_index()).artist_followers\n",
    "\n",
    "def get_decade(x):\n",
    "    if x == \"'19\":\n",
    "        return 1\n",
    "    elif x == \"'10s\":\n",
    "        return 2\n",
    "    elif x == \"'00s\":\n",
    "        return 3\n",
    "    elif x == \"'90s\":\n",
    "        return 4\n",
    "    elif x == \"'80s\":\n",
    "        return 5\n",
    "    elif x == \"'70s\":\n",
    "        return 6\n",
    "    elif x == \"'60s\":\n",
    "        return 7\n",
    "    \n",
    "df_decade_counts['order'] = df_decade_counts.decade.apply(lambda x: get_decade(x))\n",
    "\n",
    "df_decade_counts.sort_values('order').to_csv('decades_in_playlists_counts.csv', index=False)\n",
    "\n",
    "df_decade_counts"
   ]
  },
  {
   "cell_type": "markdown",
   "metadata": {},
   "source": [
    "### Grabbing each artist's genres so that I can figure out the most popular ones"
   ]
  },
  {
   "cell_type": "code",
   "execution_count": 50,
   "metadata": {},
   "outputs": [
    {
     "ename": "AttributeError",
     "evalue": "(\"'str' object has no attribute 'str'\", 'occurred at index 0')",
     "output_type": "error",
     "traceback": [
      "\u001b[1;31m---------------------------------------------------------------------------\u001b[0m",
      "\u001b[1;31mAttributeError\u001b[0m                            Traceback (most recent call last)",
      "\u001b[1;32m<ipython-input-50-3847b32a9014>\u001b[0m in \u001b[0;36m<module>\u001b[1;34m\u001b[0m\n\u001b[0;32m      8\u001b[0m \u001b[1;33m\u001b[0m\u001b[0m\n\u001b[0;32m      9\u001b[0m \u001b[1;33m\u001b[0m\u001b[0m\n\u001b[1;32m---> 10\u001b[1;33m \u001b[0mdf\u001b[0m\u001b[1;33m.\u001b[0m\u001b[0mapply\u001b[0m\u001b[1;33m(\u001b[0m\u001b[0mget_genres\u001b[0m\u001b[1;33m,\u001b[0m \u001b[0maxis\u001b[0m\u001b[1;33m=\u001b[0m\u001b[1;36m1\u001b[0m\u001b[1;33m)\u001b[0m\u001b[1;33m\u001b[0m\u001b[1;33m\u001b[0m\u001b[0m\n\u001b[0m",
      "\u001b[1;32m~\\AppData\\Local\\Programs\\Python\\Python37\\lib\\site-packages\\pandas\\core\\frame.py\u001b[0m in \u001b[0;36mapply\u001b[1;34m(self, func, axis, broadcast, raw, reduce, result_type, args, **kwds)\u001b[0m\n\u001b[0;32m   6485\u001b[0m                          \u001b[0margs\u001b[0m\u001b[1;33m=\u001b[0m\u001b[0margs\u001b[0m\u001b[1;33m,\u001b[0m\u001b[1;33m\u001b[0m\u001b[1;33m\u001b[0m\u001b[0m\n\u001b[0;32m   6486\u001b[0m                          kwds=kwds)\n\u001b[1;32m-> 6487\u001b[1;33m         \u001b[1;32mreturn\u001b[0m \u001b[0mop\u001b[0m\u001b[1;33m.\u001b[0m\u001b[0mget_result\u001b[0m\u001b[1;33m(\u001b[0m\u001b[1;33m)\u001b[0m\u001b[1;33m\u001b[0m\u001b[1;33m\u001b[0m\u001b[0m\n\u001b[0m\u001b[0;32m   6488\u001b[0m \u001b[1;33m\u001b[0m\u001b[0m\n\u001b[0;32m   6489\u001b[0m     \u001b[1;32mdef\u001b[0m \u001b[0mapplymap\u001b[0m\u001b[1;33m(\u001b[0m\u001b[0mself\u001b[0m\u001b[1;33m,\u001b[0m \u001b[0mfunc\u001b[0m\u001b[1;33m)\u001b[0m\u001b[1;33m:\u001b[0m\u001b[1;33m\u001b[0m\u001b[1;33m\u001b[0m\u001b[0m\n",
      "\u001b[1;32m~\\AppData\\Local\\Programs\\Python\\Python37\\lib\\site-packages\\pandas\\core\\apply.py\u001b[0m in \u001b[0;36mget_result\u001b[1;34m(self)\u001b[0m\n\u001b[0;32m    149\u001b[0m             \u001b[1;32mreturn\u001b[0m \u001b[0mself\u001b[0m\u001b[1;33m.\u001b[0m\u001b[0mapply_raw\u001b[0m\u001b[1;33m(\u001b[0m\u001b[1;33m)\u001b[0m\u001b[1;33m\u001b[0m\u001b[1;33m\u001b[0m\u001b[0m\n\u001b[0;32m    150\u001b[0m \u001b[1;33m\u001b[0m\u001b[0m\n\u001b[1;32m--> 151\u001b[1;33m         \u001b[1;32mreturn\u001b[0m \u001b[0mself\u001b[0m\u001b[1;33m.\u001b[0m\u001b[0mapply_standard\u001b[0m\u001b[1;33m(\u001b[0m\u001b[1;33m)\u001b[0m\u001b[1;33m\u001b[0m\u001b[1;33m\u001b[0m\u001b[0m\n\u001b[0m\u001b[0;32m    152\u001b[0m \u001b[1;33m\u001b[0m\u001b[0m\n\u001b[0;32m    153\u001b[0m     \u001b[1;32mdef\u001b[0m \u001b[0mapply_empty_result\u001b[0m\u001b[1;33m(\u001b[0m\u001b[0mself\u001b[0m\u001b[1;33m)\u001b[0m\u001b[1;33m:\u001b[0m\u001b[1;33m\u001b[0m\u001b[1;33m\u001b[0m\u001b[0m\n",
      "\u001b[1;32m~\\AppData\\Local\\Programs\\Python\\Python37\\lib\\site-packages\\pandas\\core\\apply.py\u001b[0m in \u001b[0;36mapply_standard\u001b[1;34m(self)\u001b[0m\n\u001b[0;32m    255\u001b[0m \u001b[1;33m\u001b[0m\u001b[0m\n\u001b[0;32m    256\u001b[0m         \u001b[1;31m# compute the result using the series generator\u001b[0m\u001b[1;33m\u001b[0m\u001b[1;33m\u001b[0m\u001b[1;33m\u001b[0m\u001b[0m\n\u001b[1;32m--> 257\u001b[1;33m         \u001b[0mself\u001b[0m\u001b[1;33m.\u001b[0m\u001b[0mapply_series_generator\u001b[0m\u001b[1;33m(\u001b[0m\u001b[1;33m)\u001b[0m\u001b[1;33m\u001b[0m\u001b[1;33m\u001b[0m\u001b[0m\n\u001b[0m\u001b[0;32m    258\u001b[0m \u001b[1;33m\u001b[0m\u001b[0m\n\u001b[0;32m    259\u001b[0m         \u001b[1;31m# wrap results\u001b[0m\u001b[1;33m\u001b[0m\u001b[1;33m\u001b[0m\u001b[1;33m\u001b[0m\u001b[0m\n",
      "\u001b[1;32m~\\AppData\\Local\\Programs\\Python\\Python37\\lib\\site-packages\\pandas\\core\\apply.py\u001b[0m in \u001b[0;36mapply_series_generator\u001b[1;34m(self)\u001b[0m\n\u001b[0;32m    284\u001b[0m             \u001b[1;32mtry\u001b[0m\u001b[1;33m:\u001b[0m\u001b[1;33m\u001b[0m\u001b[1;33m\u001b[0m\u001b[0m\n\u001b[0;32m    285\u001b[0m                 \u001b[1;32mfor\u001b[0m \u001b[0mi\u001b[0m\u001b[1;33m,\u001b[0m \u001b[0mv\u001b[0m \u001b[1;32min\u001b[0m \u001b[0menumerate\u001b[0m\u001b[1;33m(\u001b[0m\u001b[0mseries_gen\u001b[0m\u001b[1;33m)\u001b[0m\u001b[1;33m:\u001b[0m\u001b[1;33m\u001b[0m\u001b[1;33m\u001b[0m\u001b[0m\n\u001b[1;32m--> 286\u001b[1;33m                     \u001b[0mresults\u001b[0m\u001b[1;33m[\u001b[0m\u001b[0mi\u001b[0m\u001b[1;33m]\u001b[0m \u001b[1;33m=\u001b[0m \u001b[0mself\u001b[0m\u001b[1;33m.\u001b[0m\u001b[0mf\u001b[0m\u001b[1;33m(\u001b[0m\u001b[0mv\u001b[0m\u001b[1;33m)\u001b[0m\u001b[1;33m\u001b[0m\u001b[1;33m\u001b[0m\u001b[0m\n\u001b[0m\u001b[0;32m    287\u001b[0m                     \u001b[0mkeys\u001b[0m\u001b[1;33m.\u001b[0m\u001b[0mappend\u001b[0m\u001b[1;33m(\u001b[0m\u001b[0mv\u001b[0m\u001b[1;33m.\u001b[0m\u001b[0mname\u001b[0m\u001b[1;33m)\u001b[0m\u001b[1;33m\u001b[0m\u001b[1;33m\u001b[0m\u001b[0m\n\u001b[0;32m    288\u001b[0m             \u001b[1;32mexcept\u001b[0m \u001b[0mException\u001b[0m \u001b[1;32mas\u001b[0m \u001b[0me\u001b[0m\u001b[1;33m:\u001b[0m\u001b[1;33m\u001b[0m\u001b[1;33m\u001b[0m\u001b[0m\n",
      "\u001b[1;32m<ipython-input-50-3847b32a9014>\u001b[0m in \u001b[0;36mget_genres\u001b[1;34m(x)\u001b[0m\n\u001b[0;32m      1\u001b[0m \u001b[0mgenreRows\u001b[0m \u001b[1;33m=\u001b[0m \u001b[1;33m[\u001b[0m\u001b[1;33m]\u001b[0m\u001b[1;33m\u001b[0m\u001b[1;33m\u001b[0m\u001b[0m\n\u001b[0;32m      2\u001b[0m \u001b[1;32mdef\u001b[0m \u001b[0mget_genres\u001b[0m\u001b[1;33m(\u001b[0m\u001b[0mx\u001b[0m\u001b[1;33m)\u001b[0m\u001b[1;33m:\u001b[0m\u001b[1;33m\u001b[0m\u001b[1;33m\u001b[0m\u001b[0m\n\u001b[1;32m----> 3\u001b[1;33m     \u001b[1;32mfor\u001b[0m \u001b[0mgenre\u001b[0m \u001b[1;32min\u001b[0m \u001b[0mx\u001b[0m\u001b[1;33m[\u001b[0m\u001b[1;34m'artist_genres'\u001b[0m\u001b[1;33m]\u001b[0m\u001b[1;33m.\u001b[0m\u001b[0mstr\u001b[0m\u001b[1;33m.\u001b[0m\u001b[0mreplace\u001b[0m\u001b[1;33m(\u001b[0m\u001b[1;34m\"[\\[\\]']\"\u001b[0m\u001b[1;33m,\u001b[0m \u001b[1;34m''\u001b[0m\u001b[1;33m,\u001b[0m \u001b[0mregex\u001b[0m\u001b[1;33m=\u001b[0m\u001b[1;32mTrue\u001b[0m\u001b[1;33m)\u001b[0m\u001b[1;33m.\u001b[0m\u001b[0msplit\u001b[0m\u001b[1;33m(\u001b[0m\u001b[1;34m', '\u001b[0m\u001b[1;33m)\u001b[0m\u001b[1;33m:\u001b[0m\u001b[1;33m\u001b[0m\u001b[1;33m\u001b[0m\u001b[0m\n\u001b[0m\u001b[0;32m      4\u001b[0m         \u001b[0mrow\u001b[0m \u001b[1;33m=\u001b[0m \u001b[1;33m{\u001b[0m\u001b[1;33m}\u001b[0m\u001b[1;33m\u001b[0m\u001b[1;33m\u001b[0m\u001b[0m\n\u001b[0;32m      5\u001b[0m         \u001b[0mrow\u001b[0m\u001b[1;33m[\u001b[0m\u001b[1;34m'genre'\u001b[0m\u001b[1;33m]\u001b[0m \u001b[1;33m=\u001b[0m \u001b[0mgenre\u001b[0m\u001b[1;33m\u001b[0m\u001b[1;33m\u001b[0m\u001b[0m\n",
      "\u001b[1;31mAttributeError\u001b[0m: (\"'str' object has no attribute 'str'\", 'occurred at index 0')"
     ]
    }
   ],
   "source": [
    "genreRows = []\n",
    "def get_genres(x):\n",
    "    genresList = df['artist_genres'].str.replace(\"[\\[\\]']\", '', regex=True)\n",
    "    for genres in genresList.str.split(', '):\n",
    "        for genre in genres:\n",
    "            row = {}\n",
    "        row['genre'] = genre\n",
    "        row['playlist'] = x.playlist_name\n",
    "        genreRows.append(row)\n",
    "    \n",
    "    for genre in x['artist_genres'].str.replace(\"[\\[\\]']\", '', regex=True).split(', '):\n",
    "        \n",
    "        \n",
    "        \n",
    "df.apply(get_genres, axis=1)"
   ]
  },
  {
   "cell_type": "code",
   "execution_count": 43,
   "metadata": {
    "scrolled": false
   },
   "outputs": [
    {
     "data": {
      "text/plain": [
       "The Road to Punk Rock         100\n",
       "Crash Course                  100\n",
       "Complete Chaos                100\n",
       "Pop Punk's Not Dead           100\n",
       "The Essential Ska             100\n",
       "All Things Post               100\n",
       "Skatepark Punks               100\n",
       "Punk Unleashed                99 \n",
       "New Punk Tracks               99 \n",
       "Punk Unplugged                75 \n",
       "Escena Pop Punk               51 \n",
       "Pure Pop Punk                 50 \n",
       "Celtic Punk                   50 \n",
       "Classic Punk                  50 \n",
       "Classic Hardcore              50 \n",
       "Punk Essentials               50 \n",
       "Hot Rods & Horror Shows       50 \n",
       "Political Punks               50 \n",
       "Pop Punk Powerhouses          50 \n",
       "Grrrls To The Front           50 \n",
       "Emo Forever                   50 \n",
       "Covered In Punk               50 \n",
       "Steampunk                     47 \n",
       "Green Day: The Early Years    24 \n",
       "Name: playlist_name, dtype: int64"
      ]
     },
     "execution_count": 43,
     "metadata": {},
     "output_type": "execute_result"
    }
   ],
   "source": [
    "df.playlist_name.value_counts()"
   ]
  },
  {
   "cell_type": "code",
   "execution_count": 39,
   "metadata": {},
   "outputs": [],
   "source": [
    "genresList = df['artist_genres'].str.replace(\"[\\[\\]']\", '', regex=True)\n",
    "\n",
    "all_genres = []\n",
    "for genres in genresList.str.split(', '):\n",
    "    for genre in genres:\n",
    "        all_genres.append(genre)"
   ]
  },
  {
   "cell_type": "code",
   "execution_count": 34,
   "metadata": {},
   "outputs": [],
   "source": [
    "# pd.DataFrame(all_genres).rename(columns={0:'genre'}).to_csv('genres_list.csv', index=False)"
   ]
  },
  {
   "cell_type": "code",
   "execution_count": 24,
   "metadata": {},
   "outputs": [
    {
     "data": {
      "text/html": [
       "<div>\n",
       "<style scoped>\n",
       "    .dataframe tbody tr th:only-of-type {\n",
       "        vertical-align: middle;\n",
       "    }\n",
       "\n",
       "    .dataframe tbody tr th {\n",
       "        vertical-align: top;\n",
       "    }\n",
       "\n",
       "    .dataframe thead th {\n",
       "        text-align: right;\n",
       "    }\n",
       "</style>\n",
       "<table border=\"1\" class=\"dataframe\">\n",
       "  <thead>\n",
       "    <tr style=\"text-align: right;\">\n",
       "      <th></th>\n",
       "      <th>genre</th>\n",
       "      <th>counts</th>\n",
       "    </tr>\n",
       "  </thead>\n",
       "  <tbody>\n",
       "    <tr>\n",
       "      <th>0</th>\n",
       "      <td>pop punk</td>\n",
       "      <td>321</td>\n",
       "    </tr>\n",
       "    <tr>\n",
       "      <th>2</th>\n",
       "      <td>punk</td>\n",
       "      <td>251</td>\n",
       "    </tr>\n",
       "    <tr>\n",
       "      <th>3</th>\n",
       "      <td>emo</td>\n",
       "      <td>234</td>\n",
       "    </tr>\n",
       "    <tr>\n",
       "      <th>4</th>\n",
       "      <td>anthem emo</td>\n",
       "      <td>226</td>\n",
       "    </tr>\n",
       "    <tr>\n",
       "      <th>5</th>\n",
       "      <td>melodic hardcore</td>\n",
       "      <td>191</td>\n",
       "    </tr>\n",
       "  </tbody>\n",
       "</table>\n",
       "</div>"
      ],
      "text/plain": [
       "              genre  counts\n",
       "0  pop punk          321   \n",
       "2  punk              251   \n",
       "3  emo               234   \n",
       "4  anthem emo        226   \n",
       "5  melodic hardcore  191   "
      ]
     },
     "execution_count": 24,
     "metadata": {},
     "output_type": "execute_result"
    }
   ],
   "source": [
    "genre_counts = pd.DataFrame(pd.Series(all_genres).value_counts()).reset_index().rename(columns={'index':'genre', 0:'counts'})\n",
    "genre_counts = genre_counts[genre_counts.genre != '']\n",
    "\n",
    "genre_counts.to_csv('spotify_genre_counts.csv')\n",
    "\n",
    "genre_counts.head()"
   ]
  },
  {
   "cell_type": "code",
   "execution_count": null,
   "metadata": {
    "scrolled": true
   },
   "outputs": [],
   "source": [
    "playlists_df = pd.DataFrame(df.groupby('artist_name').playlist_name.value_counts()).rename(columns={\"playlist_name\": 'playlists_in'}).reset_index()\n",
    "\n",
    "def get_list(x):\n",
    "    playlists = []\n",
    "    if x.artist_name == x.artist_name:\n",
    "        playlists.append(x.playlist_name)\n",
    "    return playlists\n",
    "\n",
    "playlists_df.apply(get_list, axis=1)\n",
    "playlists_df.head()"
   ]
  },
  {
   "cell_type": "code",
   "execution_count": null,
   "metadata": {},
   "outputs": [],
   "source": [
    "# df['valence'] = df.valence * 100\n",
    "# df['danceability'] = df.danceability * 100\n",
    "# df['energy'] = df.energy * 100\n",
    "df.dropna(subset=['energy','valence','song_popularity','danceability']).to_csv('spotify_punk_playlists.csv', index=False)"
   ]
  },
  {
   "cell_type": "code",
   "execution_count": null,
   "metadata": {},
   "outputs": [],
   "source": [
    "df_features = {}\n",
    "\n",
    "df_features['decade'] = pd.DataFrame(df.groupby('decade').danceability.mean().reset_index()).decade\n",
    "df_features['popularity'] = pd.DataFrame(df.groupby('decade').song_popularity.mean().reset_index()).song_popularity\n",
    "df_features['energy'] = pd.DataFrame(df.groupby('decade').energy.mean().reset_index()).energy\n",
    "df_features['length'] = pd.DataFrame(df.groupby('decade').duration_ms.mean().reset_index()).duration_ms / 60000\n",
    "df_features['danceability'] = pd.DataFrame(df.groupby('decade').danceability.mean().reset_index()).danceability\n",
    "df_features['valence'] = pd.DataFrame(df.groupby('decade').valence.mean().reset_index()).valence\n",
    "df_features['loudness'] = pd.DataFrame(df.groupby('decade').loudness.mean().reset_index()).loudness\n",
    "df_features = pd.DataFrame(df_features)\n",
    "\n",
    "def get_decade(x):\n",
    "    if x == \"'19\":\n",
    "        return 1\n",
    "    elif x == \"'10s\":\n",
    "        return 2\n",
    "    elif x == \"'00s\":\n",
    "        return 3\n",
    "    elif x == \"'90s\":\n",
    "        return 4\n",
    "    elif x == \"'80s\":\n",
    "        return 5\n",
    "    elif x == \"'70s\":\n",
    "        return 6\n",
    "    elif x == \"'60s\":\n",
    "        return 7\n",
    "    \n",
    "df_features['order'] = df_features.decade.apply(lambda x: get_decade(x))\n",
    "df_features = df_features.sort_values('order')\n",
    "\n",
    "df_features.to_csv('song_features.csv', index=False)"
   ]
  }
 ],
 "metadata": {
  "kernelspec": {
   "display_name": "Python 3",
   "language": "python",
   "name": "python3"
  },
  "language_info": {
   "codemirror_mode": {
    "name": "ipython",
    "version": 3
   },
   "file_extension": ".py",
   "mimetype": "text/x-python",
   "name": "python",
   "nbconvert_exporter": "python",
   "pygments_lexer": "ipython3",
   "version": "3.7.3"
  }
 },
 "nbformat": 4,
 "nbformat_minor": 2
}
