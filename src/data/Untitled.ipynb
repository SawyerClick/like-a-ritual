{
 "cells": [
  {
   "cell_type": "code",
   "execution_count": 23,
   "metadata": {},
   "outputs": [],
   "source": [
    "import requests\n",
    "import pandas as pd\n",
    "import re\n",
    "from dotenv import load_dotenv\n",
    "load_dotenv()\n",
    "import base64\n",
    "import os\n",
    "import requests\n",
    "import json\n",
    "pd.set_option('display.max_colwidth', 999)\n",
    "# import nltk\n",
    "# nltk.download()\n",
    "\n",
    "spotify_client_id = os.getenv(\"tfID\")\n",
    "spotify_client_secret = os.getenv(\"tfSecret\")\n",
    "token = os.getenv(\"SPOTIFY_ACCESS_TOKEN\")\n",
    "genius_api_key = os.getenv(\"GENIUS_ACCESS\")\n",
    "\n",
    "access_token = os.getenv(\"SPOTIFY_ACCESS_TOKEN\")\n",
    "token = f\"Bearer {access_token}\"\n",
    "base_url = \"https://api.spotify.com/v1\"\n",
    "headers = {'Authorization': token}"
   ]
  },
  {
   "cell_type": "code",
   "execution_count": 24,
   "metadata": {},
   "outputs": [
    {
     "name": "stdout",
     "output_type": "stream",
     "text": [
      "  % Total    % Received % Xferd  Average Speed   Time    Time     Time  Current\n",
      "                                 Dload  Upload   Total   Spent    Left  Speed\n",
      "100    74  100    74    0     0    477      0 --:--:-- --:--:-- --:--:--   477\n"
     ]
    }
   ],
   "source": [
    "!curl -X \"GET\" \"https://api.spotify.com/v1/artists/2CnhqfjUG0qzsru0SMuhrk\" -H \"Accept: application/json\" -H \"Content-Type: application/json\" -H f'Authorization: Bearer {token}' > artist.json"
   ]
  },
  {
   "cell_type": "code",
   "execution_count": 25,
   "metadata": {},
   "outputs": [],
   "source": [
    "tfURI = '2CnhqfjUG0qzsru0SMuhrk'\n",
    "\n",
    "search_url = f\"https://api.spotify.com/v1/artists/{tfURI}\"\n",
    "params = {'limit':1}\n",
    "artist = requests.get(search_url, params=params, headers=headers).json()\n",
    "\n",
    "with open('artist.json', 'w') as outfile:\n",
    "    json.dump(artist, outfile)"
   ]
  },
  {
   "cell_type": "code",
   "execution_count": 26,
   "metadata": {},
   "outputs": [],
   "source": [
    "search_url = f\"https://api.spotify.com/v1/artists/{tfURI}/albums\"\n",
    "params = {'limit':50}\n",
    "albums = requests.get(search_url, params=params, headers=headers).json()\n",
    "\n",
    "with open('albums.json', 'w') as outfile:\n",
    "    json.dump(albums, outfile)"
   ]
  },
  {
   "cell_type": "code",
   "execution_count": 38,
   "metadata": {},
   "outputs": [
    {
     "name": "stdout",
     "output_type": "stream",
     "text": [
      "Hyperview\n",
      "Floral Green\n",
      "Floral Green\n",
      "Floral Green\n",
      "Shed\n",
      "Shed\n",
      "The Last Thing You Forget\n",
      "Spring Songs\n",
      "Face Ghost\n",
      "Secret Society - Single\n",
      "Shed\n",
      "Flood of '72\n",
      "Anti Sampler Fall 2015\n",
      "Off The Board: A Studio 4 Family Compilation\n",
      "America's Hardcore Compilation\n"
     ]
    }
   ],
   "source": [
    "for album in albums['items']:\n",
    "    print(album['name'])"
   ]
  },
  {
   "cell_type": "code",
   "execution_count": null,
   "metadata": {},
   "outputs": [],
   "source": []
  }
 ],
 "metadata": {
  "kernelspec": {
   "display_name": "Python 3",
   "language": "python",
   "name": "python3"
  },
  "language_info": {
   "codemirror_mode": {
    "name": "ipython",
    "version": 3
   },
   "file_extension": ".py",
   "mimetype": "text/x-python",
   "name": "python",
   "nbconvert_exporter": "python",
   "pygments_lexer": "ipython3",
   "version": "3.9.0"
  }
 },
 "nbformat": 4,
 "nbformat_minor": 4
}
